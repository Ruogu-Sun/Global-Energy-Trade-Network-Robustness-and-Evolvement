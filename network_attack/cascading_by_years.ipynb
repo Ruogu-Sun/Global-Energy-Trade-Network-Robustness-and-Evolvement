{
 "cells": [
  {
   "cell_type": "code",
   "execution_count": 1,
   "metadata": {
    "collapsed": true
   },
   "outputs": [],
   "source": [
    "import pandas as pd\n",
    "import numpy as np\n",
    "import networkx as nx\n",
    "import matplotlib.pyplot as plt\n",
    "import csv\n",
    "from graph_tiger.measures import run_measure\n",
    "from graph_tiger.attacks import run_attack_method, get_attack_methods\n",
    "from graph_tiger.graphs import graph_loader\n",
    "from graph_tiger.cascading import Cascading\n",
    "import matplotlib.pyplot as plt\n",
    "import networkx as nx\n",
    "import pandas as pd\n",
    "import seaborn as sns\n",
    "import graph_tiger\n",
    "import numpy as np\n",
    "import matplotlib.pyplot as plt\n",
    "import csv\n",
    "import os"
   ]
  },
  {
   "cell_type": "code",
   "execution_count": 2,
   "outputs": [],
   "source": [
    "product_code = [i for i in range(270100, 271601)]\n",
    "file_path_2020 = f'/Users/sunruogu/Desktop/Network_Attack/BACI_HS92_V202201/BACI_HS92_Y2020_V202201.csv'\n",
    "file_path_2017 = f'/Users/sunruogu/Desktop/Network_Attack/BACI_HS92_V202201/BACI_HS92_Y2017_V202201.csv'\n",
    "file_path_2014 = f'/Users/sunruogu/Desktop/Network_Attack/BACI_HS92_V202201/BACI_HS92_Y2014_V202201.csv'\n",
    "file_path_2011 = f'/Users/sunruogu/Desktop/Network_Attack/BACI_HS92_V202201/BACI_HS92_Y2011_V202201.csv'\n",
    "file_path_2008 = f'/Users/sunruogu/Desktop/Network_Attack/BACI_HS92_V202201/BACI_HS92_Y2008_V202201.csv'"
   ],
   "metadata": {
    "collapsed": false,
    "pycharm": {
     "name": "#%%\n"
    }
   }
  },
  {
   "cell_type": "code",
   "execution_count": 3,
   "outputs": [],
   "source": [
    "def fun1(file_path):\n",
    "    df = pd.read_csv(file_path)\n",
    "    df = df[df[\"k\"].isin(product_code)]\n",
    "    for q in df[\"q\"]:\n",
    "        index = 0\n",
    "        try:\n",
    "            df.iloc[index, -1] = float(q.strip())\n",
    "        except ValueError:\n",
    "            df.iloc[index, -1] = 0\n",
    "        index += 1\n",
    "    return df"
   ],
   "metadata": {
    "collapsed": false,
    "pycharm": {
     "name": "#%%\n"
    }
   }
  },
  {
   "cell_type": "code",
   "execution_count": 4,
   "outputs": [],
   "source": [
    "def fun2(df):\n",
    "    df11 = df[['i', 'j', 'v']]\n",
    "    # df12 = df[['i', 'j', 'q']]\n",
    "    df21 = df11.groupby(['i', 'j'], as_index=False).sum()\n",
    "    # df22 = df12.groupby(['i', 'j'], as_index=False).sum()\n",
    "    # df21[\"q\"] = df22[\"q\"]\n",
    "    df1 = df21\n",
    "    return df1"
   ],
   "metadata": {
    "collapsed": false,
    "pycharm": {
     "name": "#%%\n"
    }
   }
  },
  {
   "cell_type": "code",
   "execution_count": 5,
   "outputs": [],
   "source": [
    "def fun3(df1):\n",
    "    df000=[]\n",
    "    print(sum(df1[\"v\"]))\n",
    "    for i in np.array(df1[\"v\"]):\n",
    "        df000.append(i/sum(np.array(df1[\"v\"])))\n",
    "    df1[\"v\"]=df000\n",
    "    return df1"
   ],
   "metadata": {
    "collapsed": false,
    "pycharm": {
     "name": "#%%\n"
    }
   }
  },
  {
   "cell_type": "code",
   "execution_count": 6,
   "outputs": [],
   "source": [
    "def plot(df1):\n",
    "    G = nx.Graph()\n",
    "    # G = nx.from_pandas_edgelist(df1, 'i', \"j\", [\"v\"], create_using=nx.DiGraph())\n",
    "    G = nx.from_pandas_edgelist(df1, 'i', \"j\", [\"v\"])\n",
    "    G=G.subgraph(max(nx.connected_components(G),key=len))\n",
    "    return G"
   ],
   "metadata": {
    "collapsed": false,
    "pycharm": {
     "name": "#%%\n"
    }
   }
  },
  {
   "cell_type": "code",
   "execution_count": 11,
   "outputs": [],
   "source": [
    "def result(file_path_2020,file_path_2017,file_path_2014,file_path_2011,file_path_2008,xlabel='Steps', line_label='', experiment=''):\n",
    "    plt.figure(figsize=(6.4, 4.8))\n",
    "\n",
    "    title=\"\"\n",
    "    #####################################################\n",
    "    df=fun1(file_path_2020)\n",
    "    df1=fun2(df)\n",
    "    df1=fun3(df1)\n",
    "    G=plot(df1)\n",
    "    params = {\n",
    "   'runs': 1,\n",
    "   'steps': 100,\n",
    "   'seed': 1,\n",
    "\n",
    "   'l': 0.9,\n",
    "   'r': 0.2,\n",
    "   'c': int(0.1 * len(G)),\n",
    "   #  'c': tuple(dict(nx.betweenness_centrality(G,normalized=True)).values()),\n",
    "\n",
    "   'k_a': 10,\n",
    "   'attack': 'id_node',\n",
    "   # 'attack_approx': int(0.1 * len(G)),\n",
    "\n",
    "   'k_d': 0,\n",
    "   'defense': None,\n",
    "\n",
    "   'robust_measure': 'spectral_radius',\n",
    "\n",
    "   'plot_graph_transition': True,  # False turns off key simulation image \"snapshots\"\n",
    "   'gif_animation': False,  # True creaets a video of the simulation (MP4 file)\n",
    "   'gif_snaps': True,  # True saves each frame of the simulation as an image\n",
    "\n",
    "   # 'edge_style': 'bundled',\n",
    "   # 'node_style': 'force_atlas',\n",
    "   # 'fa_iter': 2000,\n",
    "}\n",
    "    cascading = Cascading(G, **params)\n",
    "    results = cascading.run_simulation()\n",
    "    key=[i for i in range(len(results))]\n",
    "    d=zip(key,results)\n",
    "    d=dict(d)\n",
    "    for strength, result in d.items():\n",
    "        result_norm = [r / len(G) for r in results]\n",
    "    plt.plot(result_norm, label=\"{}: {}\".format(line_label, strength),linestyle='-')\n",
    "    #####################################################\n",
    "    df=fun1(file_path_2017)\n",
    "    df1=fun2(df)\n",
    "    df1=fun3(df1)\n",
    "    G=plot(df1)\n",
    "    params = {\n",
    "   'runs': 1,\n",
    "   'steps': 100,\n",
    "   'seed': 1,\n",
    "\n",
    "   'l': 0.9,\n",
    "   'r': 0.2,\n",
    "   'c': int(0.1 * len(G)),\n",
    "   #  'c': tuple(dict(nx.betweenness_centrality(G,normalized=True)).values()),\n",
    "\n",
    "   'k_a': 10,\n",
    "   'attack': 'id_node',\n",
    "   # 'attack_approx': int(0.1 * len(G)),\n",
    "\n",
    "   'k_d': 0,\n",
    "   'defense': None,\n",
    "\n",
    "   'robust_measure': 'spectral_radius',\n",
    "\n",
    "   'plot_graph_transition': True,  # False turns off key simulation image \"snapshots\"\n",
    "   'gif_animation': False,  # True creaets a video of the simulation (MP4 file)\n",
    "   'gif_snaps': True,  # True saves each frame of the simulation as an image\n",
    "\n",
    "   # 'edge_style': 'bundled',\n",
    "   # 'node_style': 'force_atlas',\n",
    "   # 'fa_iter': 2000,\n",
    "}\n",
    "    cascading = Cascading(G, **params)\n",
    "    results = cascading.run_simulation()\n",
    "    key=[i for i in range(len(results))]\n",
    "    d=zip(key,results)\n",
    "    d=dict(d)\n",
    "    for strength, result in d.items():\n",
    "        result_norm = [r / len(G) for r in results]\n",
    "    plt.plot(result_norm, label=\"{}: {}\".format(line_label, strength),linestyle='--')\n",
    "    #####################################################\n",
    "    df=fun1(file_path_2014)\n",
    "    df1=fun2(df)\n",
    "    df1=fun3(df1)\n",
    "    G=plot(df1)\n",
    "    params = {\n",
    "   'runs': 1,\n",
    "   'steps': 100,\n",
    "   'seed': 1,\n",
    "\n",
    "   'l': 0.9,\n",
    "   'r': 0.2,\n",
    "   'c': int(0.1 * len(G)),\n",
    "   #  'c': tuple(dict(nx.betweenness_centrality(G,normalized=True)).values()),\n",
    "\n",
    "   'k_a': 10,\n",
    "   'attack': 'id_node',\n",
    "   # 'attack_approx': int(0.1 * len(G)),\n",
    "\n",
    "   'k_d': 0,\n",
    "   'defense': None,\n",
    "\n",
    "   'robust_measure': 'spectral_radius',\n",
    "\n",
    "   'plot_graph_transition': True,  # False turns off key simulation image \"snapshots\"\n",
    "   'gif_animation': False,  # True creaets a video of the simulation (MP4 file)\n",
    "   'gif_snaps': True,  # True saves each frame of the simulation as an image\n",
    "\n",
    "   # 'edge_style': 'bundled',\n",
    "   # 'node_style': 'force_atlas',\n",
    "   # 'fa_iter': 2000,\n",
    "}\n",
    "    cascading = Cascading(G, **params)\n",
    "    results = cascading.run_simulation()\n",
    "    key=[i for i in range(len(results))]\n",
    "    d=zip(key,results)\n",
    "    d=dict(d)\n",
    "    for strength, result in d.items():\n",
    "        result_norm = [r / len(G) for r in results]\n",
    "    plt.plot(result_norm, label=\"{}: {}\".format(line_label, strength),linestyle='-.')\n",
    "    #####################################################\n",
    "    df=fun1(file_path_2011)\n",
    "    df1=fun2(df)\n",
    "    df1=fun3(df1)\n",
    "    G=plot(df1)\n",
    "    params = {\n",
    "   'runs': 1,\n",
    "   'steps': 100,\n",
    "   'seed': 1,\n",
    "\n",
    "   'l': 0.9,\n",
    "   'r': 0.2,\n",
    "   'c': int(0.1 * len(G)),\n",
    "   #  'c': tuple(dict(nx.betweenness_centrality(G,normalized=True)).values()),\n",
    "\n",
    "   'k_a': 10,\n",
    "   'attack': 'id_node',\n",
    "   # 'attack_approx': int(0.1 * len(G)),\n",
    "\n",
    "   'k_d': 0,\n",
    "   'defense': None,\n",
    "\n",
    "   'robust_measure': 'spectral_radius',\n",
    "\n",
    "   'plot_graph_transition': True,  # False turns off key simulation image \"snapshots\"\n",
    "   'gif_animation': False,  # True creaets a video of the simulation (MP4 file)\n",
    "   'gif_snaps': True,  # True saves each frame of the simulation as an image\n",
    "\n",
    "   # 'edge_style': 'bundled',\n",
    "   # 'node_style': 'force_atlas',\n",
    "   # 'fa_iter': 2000,\n",
    "}\n",
    "    cascading = Cascading(G, **params)\n",
    "    results = cascading.run_simulation()\n",
    "    key=[i for i in range(len(results))]\n",
    "    d=zip(key,results)\n",
    "    d=dict(d)\n",
    "    for strength, result in d.items():\n",
    "        result_norm = [r / len(G) for r in results]\n",
    "    plt.plot(result_norm, label=\"{}: {}\".format(line_label, strength),linestyle=':')\n",
    "    #####################################################\n",
    "    df=fun1(file_path_2008)\n",
    "    df1=fun2(df)\n",
    "    df1=fun3(df1)\n",
    "    G=plot(df1)\n",
    "    params = {\n",
    "   'runs': 1,\n",
    "   'steps': 100,\n",
    "   'seed': 1,\n",
    "\n",
    "   'l': 0.9,\n",
    "   'r': 0.2,\n",
    "   'c': int(0.1 * len(G)),\n",
    "   #  'c': tuple(dict(nx.betweenness_centrality(G,normalized=True)).values()),\n",
    "\n",
    "   'k_a': 10,\n",
    "   'attack': 'id_node',\n",
    "   # 'attack_approx': int(0.1 * len(G)),\n",
    "\n",
    "   'k_d': 0,\n",
    "   'defense': None,\n",
    "\n",
    "   'robust_measure': 'spectral_radius',\n",
    "\n",
    "   'plot_graph_transition': True,  # False turns off key simulation image \"snapshots\"\n",
    "   'gif_animation': False,  # True creaets a video of the simulation (MP4 file)\n",
    "   'gif_snaps': True,  # True saves each frame of the simulation as an image\n",
    "\n",
    "   # 'edge_style': 'bundled',\n",
    "   # 'node_style': 'force_atlas',\n",
    "   # 'fa_iter': 2000,\n",
    "}\n",
    "    cascading = Cascading(G, **params)\n",
    "    results = cascading.run_simulation()\n",
    "    key=[i for i in range(len(results))]\n",
    "    d=zip(key,results)\n",
    "    d=dict(d)\n",
    "    for strength, result in d.items():\n",
    "        result_norm = [r / len(G) for r in results]\n",
    "    plt.plot(result_norm, label=\"{}: {}\".format(line_label, strength),linestyle='-')\n",
    "    #####################################################\n",
    "    plt.xlabel(xlabel)\n",
    "    plt.ylabel(\"Spectral Radius\")\n",
    "    plt.ylim(0, 0.4)\n",
    "    plt.xlim(0,25)\n",
    "\n",
    "    save_dir = os.getcwd() + '/plots/' + experiment + '/'\n",
    "    os.makedirs(save_dir, exist_ok=True)\n",
    "\n",
    "    plt.legend([\"2020\",\"2017\",\"2014\",\"2011\",\"2008\"],loc='upper right')\n",
    "    plt.title(title)\n",
    "    plt.savefig('11.pdf')\n",
    "    plt.show()\n",
    "    plt.clf()"
   ],
   "metadata": {
    "collapsed": false,
    "pycharm": {
     "name": "#%%\n"
    }
   }
  },
  {
   "cell_type": "code",
   "execution_count": 12,
   "outputs": [
    {
     "name": "stdout",
     "output_type": "stream",
     "text": [
      "1487521608.6110005\n",
      "Running simulation 1 times\n"
     ]
    },
    {
     "name": "stderr",
     "output_type": "stream",
     "text": [
      "/Users/sunruogu/miniconda3/envs/Network_Attack/lib/python3.8/site-packages/graph_tiger/utils.py:44: FutureWarning: adjacency_matrix will return a scipy.sparse array instead of a matrix in Networkx 3.0.\n",
      "  A = nx.adjacency_matrix(graph).todense()\n"
     ]
    },
    {
     "name": "stdout",
     "output_type": "stream",
     "text": [
      "1965316740.6319914\n",
      "Running simulation 1 times\n"
     ]
    },
    {
     "name": "stderr",
     "output_type": "stream",
     "text": [
      "/Users/sunruogu/miniconda3/envs/Network_Attack/lib/python3.8/site-packages/graph_tiger/utils.py:44: FutureWarning: adjacency_matrix will return a scipy.sparse array instead of a matrix in Networkx 3.0.\n",
      "  A = nx.adjacency_matrix(graph).todense()\n"
     ]
    },
    {
     "name": "stdout",
     "output_type": "stream",
     "text": [
      "2954006358.326986\n",
      "Running simulation 1 times\n"
     ]
    },
    {
     "name": "stderr",
     "output_type": "stream",
     "text": [
      "/Users/sunruogu/miniconda3/envs/Network_Attack/lib/python3.8/site-packages/graph_tiger/utils.py:44: FutureWarning: adjacency_matrix will return a scipy.sparse array instead of a matrix in Networkx 3.0.\n",
      "  A = nx.adjacency_matrix(graph).todense()\n"
     ]
    },
    {
     "name": "stdout",
     "output_type": "stream",
     "text": [
      "3085070137.3030047\n",
      "Running simulation 1 times\n"
     ]
    },
    {
     "name": "stderr",
     "output_type": "stream",
     "text": [
      "/Users/sunruogu/miniconda3/envs/Network_Attack/lib/python3.8/site-packages/graph_tiger/utils.py:44: FutureWarning: adjacency_matrix will return a scipy.sparse array instead of a matrix in Networkx 3.0.\n",
      "  A = nx.adjacency_matrix(graph).todense()\n"
     ]
    },
    {
     "name": "stdout",
     "output_type": "stream",
     "text": [
      "2796482038.9939923\n",
      "Running simulation 1 times\n"
     ]
    },
    {
     "name": "stderr",
     "output_type": "stream",
     "text": [
      "/Users/sunruogu/miniconda3/envs/Network_Attack/lib/python3.8/site-packages/graph_tiger/utils.py:44: FutureWarning: adjacency_matrix will return a scipy.sparse array instead of a matrix in Networkx 3.0.\n",
      "  A = nx.adjacency_matrix(graph).todense()\n"
     ]
    },
    {
     "data": {
      "text/plain": "<Figure size 640x480 with 1 Axes>",
      "image/png": "[encoded data removed]"
     },
     "metadata": {},
     "output_type": "display_data"
    },
    {
     "data": {
      "text/plain": "<Figure size 640x480 with 0 Axes>"
     },
     "metadata": {},
     "output_type": "display_data"
    }
   ],
   "source": [
    "result(file_path_2020,file_path_2017,file_path_2014,file_path_2011,file_path_2008)"
   ],
   "metadata": {
    "collapsed": false,
    "pycharm": {
     "name": "#%%\n"
    }
   }
  },
  {
   "cell_type": "code",
   "execution_count": 10,
   "outputs": [
    {
     "name": "stdout",
     "output_type": "stream",
     "text": [
      "1487521608.6110005\n"
     ]
    }
   ],
   "source": [
    "df=fun1(file_path_2020)\n",
    "df1=fun2(df)\n",
    "df1=fun3(df1)\n",
    "G=plot(df1)"
   ],
   "metadata": {
    "collapsed": false,
    "pycharm": {
     "name": "#%%\n"
    }
   }
  },
  {
   "cell_type": "code",
   "execution_count": 13,
   "outputs": [],
   "source": [
    "params = {\n",
    "   'runs': 1,\n",
    "   'steps': 100,\n",
    "   'seed': 1,\n",
    "\n",
    "   'l': 0.8,\n",
    "   'r': 0.2,\n",
    "   'c': int(0.1 * len(G)),\n",
    "   #  'c': tuple(dict(nx.betweenness_centrality(G,normalized=True)).values()),\n",
    "\n",
    "   'k_a': 10,\n",
    "   'attack': 'id_node',\n",
    "   # 'attack_approx': int(0.1 * len(G)),\n",
    "\n",
    "   'k_d': 0,\n",
    "   'defense': None,\n",
    "\n",
    "   'robust_measure': 'spectral_radius',\n",
    "\n",
    "   'plot_graph_transition': True,  # False turns off key simulation image \"snapshots\"\n",
    "   'gif_animation': False,  # True creaets a video of the simulation (MP4 file)\n",
    "   'gif_snaps': True,  # True saves each frame of the simulation as an image\n",
    "\n",
    "   # 'edge_style': 'bundled',\n",
    "   # 'node_style': 'force_atlas',\n",
    "   # 'fa_iter': 2000,\n",
    "}"
   ],
   "metadata": {
    "collapsed": false,
    "pycharm": {
     "name": "#%%\n"
    }
   }
  },
  {
   "cell_type": "code",
   "execution_count": 14,
   "outputs": [],
   "source": [
    "def get_results():\n",
    "    global params\n",
    "    result_list=[]\n",
    "    for load in [0.6,0.7,0.8,0.9,1.0]:\n",
    "        params[\"l\"]=load\n",
    "        cascading = Cascading(G, **params)\n",
    "        results = cascading.run_simulation()\n",
    "        result_list.append(results)\n",
    "    return result_list"
   ],
   "metadata": {
    "collapsed": false,
    "pycharm": {
     "name": "#%%\n"
    }
   }
  },
  {
   "cell_type": "code",
   "execution_count": 15,
   "outputs": [
    {
     "name": "stdout",
     "output_type": "stream",
     "text": [
      "Running simulation 1 times\n"
     ]
    },
    {
     "name": "stderr",
     "output_type": "stream",
     "text": [
      "/Users/sunruogu/miniconda3/envs/Network_Attack/lib/python3.8/site-packages/graph_tiger/utils.py:44: FutureWarning: adjacency_matrix will return a scipy.sparse array instead of a matrix in Networkx 3.0.\n",
      "  A = nx.adjacency_matrix(graph).todense()\n"
     ]
    }
   ],
   "source": [
    "cascading = Cascading(G, **params)\n",
    "results = cascading.run_simulation()"
   ],
   "metadata": {
    "collapsed": false,
    "pycharm": {
     "name": "#%%\n"
    }
   }
  },
  {
   "cell_type": "code",
   "execution_count": 16,
   "outputs": [],
   "source": [
    "def plot_results(graph, xlabel='Steps', line_label='', experiment=''):\n",
    "    plt.figure(figsize=(6.4, 4.8))\n",
    "\n",
    "    # title = '{}:step={},l={},r={},k_a={},attack={},k_d={},defense={}'.format(experiment, params['steps'], params['l'], params['r'], params['k_a'],\n",
    "    #                                                                               params['attack'], params['k_d'], params['defense'])\n",
    "\n",
    "    title=\"\"\n",
    "\n",
    "    result_list=get_results()\n",
    "    result_norm_list=[]\n",
    "    for res in result_list:\n",
    "        key=[i for i in range(len(res))]\n",
    "        d=zip(key,res)\n",
    "        d=dict(d)\n",
    "\n",
    "        for strength, result in d.items():\n",
    "            result_norm = [r / len(graph) for r in res]\n",
    "        result_norm_list.append(result_norm)\n",
    "    # print(len(result_norm_list))\n",
    "    # print(result_norm_list)\n",
    "    plt.plot(result_norm_list[0], label=\"{}: {}\".format(line_label, strength),linestyle='-')\n",
    "    plt.plot(result_norm_list[1], label=\"{}: {}\".format(line_label, strength),linestyle='--')\n",
    "    plt.plot(result_norm_list[2], label=\"{}: {}\".format(line_label, strength),linestyle='-.')\n",
    "    plt.plot(result_norm_list[3], label=\"{}: {}\".format(line_label, strength),linestyle=':')\n",
    "    plt.plot(result_norm_list[4], label=\"{}: {}\".format(line_label, strength),linestyle='-')\n",
    "\n",
    "    plt.xlabel(xlabel)\n",
    "    plt.ylabel(\"Spectral Radius\")\n",
    "    plt.ylim(0, 0.38)\n",
    "    plt.xlim(0,40)\n",
    "\n",
    "    save_dir = os.getcwd() + '/plots/' + experiment + '/'\n",
    "    os.makedirs(save_dir, exist_ok=True)\n",
    "\n",
    "    plt.legend([\"initial load: 0.6\",\"initial load: 0.7\",\"initial load: 0.8\",\"initial load: 0.9\",\"initial load: 1.0\",],loc='lower right')\n",
    "    plt.title(title)\n",
    "    plt.savefig('22.pdf')\n",
    "    plt.show()\n",
    "    plt.clf()"
   ],
   "metadata": {
    "collapsed": false,
    "pycharm": {
     "name": "#%%\n"
    }
   }
  },
  {
   "cell_type": "code",
   "execution_count": 17,
   "outputs": [
    {
     "name": "stdout",
     "output_type": "stream",
     "text": [
      "Running simulation 1 times\n",
      "Running simulation 1 times\n"
     ]
    },
    {
     "name": "stderr",
     "output_type": "stream",
     "text": [
      "/Users/sunruogu/miniconda3/envs/Network_Attack/lib/python3.8/site-packages/graph_tiger/utils.py:44: FutureWarning: adjacency_matrix will return a scipy.sparse array instead of a matrix in Networkx 3.0.\n",
      "  A = nx.adjacency_matrix(graph).todense()\n"
     ]
    },
    {
     "name": "stdout",
     "output_type": "stream",
     "text": [
      "Running simulation 1 times\n",
      "Running simulation 1 times\n",
      "Running simulation 1 times\n"
     ]
    },
    {
     "data": {
      "text/plain": "<Figure size 640x480 with 1 Axes>",
      "image/png": "[encoded data removed]"
     },
     "metadata": {},
     "output_type": "display_data"
    },
    {
     "data": {
      "text/plain": "<Figure size 640x480 with 0 Axes>"
     },
     "metadata": {},
     "output_type": "display_data"
    }
   ],
   "source": [
    "plot_results(G)"
   ],
   "metadata": {
    "collapsed": false,
    "pycharm": {
     "name": "#%%\n"
    }
   }
  }
 ],
 "metadata": {
  "kernelspec": {
   "display_name": "Python 3",
   "language": "python",
   "name": "python3"
  },
  "language_info": {
   "codemirror_mode": {
    "name": "ipython",
    "version": 2
   },
   "file_extension": ".py",
   "mimetype": "text/x-python",
   "name": "python",
   "nbconvert_exporter": "python",
   "pygments_lexer": "ipython2",
   "version": "2.7.6"
  }
 },
 "nbformat": 4,
 "nbformat_minor": 0
}