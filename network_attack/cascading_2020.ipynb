{
 "cells": [
  {
   "cell_type": "code",
   "execution_count": 1,
   "metadata": {
    "collapsed": true
   },
   "outputs": [],
   "source": [
    "import pandas as pd\n",
    "import numpy as np\n",
    "import networkx as nx\n",
    "import matplotlib.pyplot as plt\n",
    "import csv\n",
    "from graph_tiger.measures import run_measure\n",
    "from graph_tiger.attacks import run_attack_method, get_attack_methods\n",
    "from graph_tiger.graphs import graph_loader\n",
    "from graph_tiger.cascading import Cascading\n",
    "import matplotlib.pyplot as plt\n",
    "import networkx as nx\n",
    "import pandas as pd\n",
    "import seaborn as sns\n",
    "import graph_tiger\n",
    "import numpy as np\n",
    "import matplotlib.pyplot as plt\n",
    "import csv\n",
    "import os"
   ]
  },
  {
   "cell_type": "code",
   "execution_count": 2,
   "outputs": [],
   "source": [
    "product_code = [i for i in range(270100, 271601)]\n",
    "file_path = f'/Users/sunruogu/Desktop/Network_Attack/BACI_HS92_V202201/BACI_HS92_Y2020_V202201.csv'"
   ],
   "metadata": {
    "collapsed": false,
    "pycharm": {
     "name": "#%%\n"
    }
   }
  },
  {
   "cell_type": "code",
   "execution_count": 3,
   "outputs": [],
   "source": [
    "def fun1(file_path):\n",
    "    df = pd.read_csv(file_path)\n",
    "    df = df[df[\"k\"].isin(product_code)]\n",
    "    for q in df[\"q\"]:\n",
    "        index = 0\n",
    "        try:\n",
    "            df.iloc[index, -1] = float(q.strip())\n",
    "        except ValueError:\n",
    "            df.iloc[index, -1] = 0\n",
    "        index += 1\n",
    "    return df"
   ],
   "metadata": {
    "collapsed": false,
    "pycharm": {
     "name": "#%%\n"
    }
   }
  },
  {
   "cell_type": "code",
   "execution_count": 4,
   "outputs": [],
   "source": [
    "def fun2(df):\n",
    "    df11 = df[['i', 'j', 'v']]\n",
    "    # df12 = df[['i', 'j', 'q']]\n",
    "    df21 = df11.groupby(['i', 'j'], as_index=False).sum()\n",
    "    # df22 = df12.groupby(['i', 'j'], as_index=False).sum()\n",
    "    # df21[\"q\"] = df22[\"q\"]\n",
    "    df1 = df21\n",
    "    return df1"
   ],
   "metadata": {
    "collapsed": false,
    "pycharm": {
     "name": "#%%\n"
    }
   }
  },
  {
   "cell_type": "code",
   "execution_count": 5,
   "outputs": [],
   "source": [
    "def fun3(df1):\n",
    "    df000=[]\n",
    "    for i in np.array(df1[\"v\"]):\n",
    "        df000.append(i/sum(np.array(df1[\"v\"])))\n",
    "    df1[\"v\"]=df000\n",
    "    return df1"
   ],
   "metadata": {
    "collapsed": false,
    "pycharm": {
     "name": "#%%\n"
    }
   }
  },
  {
   "cell_type": "code",
   "execution_count": 6,
   "outputs": [],
   "source": [
    "def plot(df1):\n",
    "    G = nx.Graph()\n",
    "    G = nx.from_pandas_edgelist(df1, 'i', \"j\", [\"v\"], create_using=nx.DiGraph())\n",
    "    return G"
   ],
   "metadata": {
    "collapsed": false,
    "pycharm": {
     "name": "#%%\n"
    }
   }
  },
  {
   "cell_type": "code",
   "execution_count": 7,
   "outputs": [],
   "source": [
    "df=fun1(file_path)\n",
    "df1=fun2(df)\n",
    "df1=fun3(df1)\n",
    "G=plot(df1)"
   ],
   "metadata": {
    "collapsed": false,
    "pycharm": {
     "name": "#%%\n"
    }
   }
  },
  {
   "cell_type": "code",
   "execution_count": 8,
   "outputs": [],
   "source": [
    "capacity=tuple(dict(nx.betweenness_centrality(G,normalized=True)).values())"
   ],
   "metadata": {
    "collapsed": false,
    "pycharm": {
     "name": "#%%\n"
    }
   }
  },
  {
   "cell_type": "code",
   "execution_count": 13,
   "outputs": [],
   "source": [
    "params = {\n",
    "   'runs': 20,\n",
    "   'steps': 100,\n",
    "   'seed': 1,\n",
    "\n",
    "   'l': 1,\n",
    "   # 'r': 0.2,\n",
    "   # 'c': int(0.1 * len(G)),\n",
    "   #  'c': tuple(dict(nx.betweenness_centrality(G,normalized=True)).values()),\n",
    "\n",
    "   'k_a': 10,\n",
    "   'attack': 'rb_node',\n",
    "   'attack_approx': int(0.1 * len(G)),\n",
    "\n",
    "   'k_d': 0,\n",
    "   'defense': None,\n",
    "\n",
    "   'robust_measure': 'spectral_radius',\n",
    "\n",
    "   'plot_graph_transition': True,  # False turns off key simulation image \"snapshots\"\n",
    "   'gif_animation': False,  # True creaets a video of the simulation (MP4 file)\n",
    "   'gif_snaps': True,  # True saves each frame of the simulation as an image\n",
    "\n",
    "   'edge_style': 'bundled',\n",
    "   'node_style': 'force_atlas',\n",
    "   'fa_iter': 2000,\n",
    "}"
   ],
   "metadata": {
    "collapsed": false,
    "pycharm": {
     "name": "#%%\n"
    }
   }
  },
  {
   "cell_type": "code",
   "execution_count": 14,
   "outputs": [],
   "source": [
    "def get_results():\n",
    "    global params\n",
    "    result_list=[]\n",
    "    for load in [0.7,0.8,0.9,1.0]:\n",
    "        print(1)\n",
    "        params[\"l\"]=load\n",
    "        cascading = Cascading(G, **params)\n",
    "        print(2)\n",
    "        results = cascading.run_simulation()\n",
    "        print(3)\n",
    "        result_list.append(results)\n",
    "        print(4)\n",
    "    return result_list"
   ],
   "metadata": {
    "collapsed": false,
    "pycharm": {
     "name": "#%%\n"
    }
   }
  },
  {
   "cell_type": "code",
   "execution_count": 15,
   "outputs": [
    {
     "name": "stdout",
     "output_type": "stream",
     "text": [
      "1\n"
     ]
    },
    {
     "name": "stderr",
     "output_type": "stream",
     "text": [
      "/Users/sunruogu/miniconda3/envs/Network_Attack/lib/python3.8/site-packages/_distutils_hack/__init__.py:33: UserWarning: Setuptools is replacing distutils.\n",
      "  warnings.warn(\"Setuptools is replacing distutils.\")\n"
     ]
    },
    {
     "name": "stdout",
     "output_type": "stream",
     "text": [
      "2\n",
      "Running simulation 20 times\n"
     ]
    },
    {
     "name": "stderr",
     "output_type": "stream",
     "text": [
      "/Users/sunruogu/miniconda3/envs/Network_Attack/lib/python3.8/site-packages/graph_tiger/utils.py:44: FutureWarning: adjacency_matrix will return a scipy.sparse array instead of a matrix in Networkx 3.0.\n",
      "  A = nx.adjacency_matrix(graph).todense()\n"
     ]
    },
    {
     "name": "stdout",
     "output_type": "stream",
     "text": [
      "3\n",
      "4\n",
      "1\n",
      "2\n",
      "Running simulation 20 times\n",
      "3\n",
      "4\n",
      "1\n",
      "2\n",
      "Running simulation 20 times\n",
      "3\n",
      "4\n",
      "1\n",
      "2\n",
      "Running simulation 20 times\n",
      "3\n",
      "4\n"
     ]
    },
    {
     "data": {
      "text/plain": "[[73.2155,\n  59.67100000000001,\n  58.2965,\n  59.1795,\n  59.206,\n  58.555499999999995,\n  57.882000000000005,\n  58.631499999999996,\n  58.74550000000001,\n  57.98599999999999,\n  58.1725,\n  57.7505,\n  56.477,\n  54.84849999999999,\n  48.6925,\n  43.003499999999995,\n  30.9795,\n  9.099000000000002,\n  0.0,\n  0.0,\n  0.0,\n  0.0,\n  0.0,\n  0.0,\n  0.0,\n  0.0,\n  0.0,\n  0.0,\n  0.0,\n  0.0,\n  0.0,\n  0.0,\n  0.0,\n  0.0,\n  0.0,\n  0.0,\n  0.0,\n  0.0,\n  0.0,\n  0.0,\n  0.0,\n  0.0,\n  0.0,\n  0.0,\n  0.0,\n  0.0,\n  0.0,\n  0.0,\n  0.0,\n  0.0,\n  0.0,\n  0.0,\n  0.0,\n  0.0,\n  0.0,\n  0.0,\n  0.0,\n  0.0,\n  0.0,\n  0.0,\n  0.0,\n  0.0,\n  0.0,\n  0.0,\n  0.0,\n  0.0,\n  0.0,\n  0.0,\n  0.0,\n  0.0,\n  0.0,\n  0.0,\n  0.0,\n  0.0,\n  0.0,\n  0.0,\n  0.0,\n  0.0,\n  0.0,\n  0.0,\n  0.0,\n  0.0,\n  0.0,\n  0.0,\n  0.0,\n  0.0,\n  0.0,\n  0.0,\n  0.0,\n  0.0,\n  0.0,\n  0.0,\n  0.0,\n  0.0,\n  0.0,\n  0.0,\n  0.0,\n  0.0,\n  0.0,\n  0.0],\n [74.08200000000002,\n  58.891999999999996,\n  58.445499999999996,\n  58.601,\n  58.611000000000004,\n  57.81849999999999,\n  58.98350000000001,\n  58.49650000000001,\n  55.612,\n  51.278499999999994,\n  39.0895,\n  26.279500000000002,\n  19.642500000000002,\n  11.6605,\n  3.3034999999999997,\n  0.0,\n  0.0,\n  0.0,\n  0.0,\n  0.0,\n  0.0,\n  0.0,\n  0.0,\n  0.0,\n  0.0,\n  0.0,\n  0.0,\n  0.0,\n  0.0,\n  0.0,\n  0.0,\n  0.0,\n  0.0,\n  0.0,\n  0.0,\n  0.0,\n  0.0,\n  0.0,\n  0.0,\n  0.0,\n  0.0,\n  0.0,\n  0.0,\n  0.0,\n  0.0,\n  0.0,\n  0.0,\n  0.0,\n  0.0,\n  0.0,\n  0.0,\n  0.0,\n  0.0,\n  0.0,\n  0.0,\n  0.0,\n  0.0,\n  0.0,\n  0.0,\n  0.0,\n  0.0,\n  0.0,\n  0.0,\n  0.0,\n  0.0,\n  0.0,\n  0.0,\n  0.0,\n  0.0,\n  0.0,\n  0.0,\n  0.0,\n  0.0,\n  0.0,\n  0.0,\n  0.0,\n  0.0,\n  0.0,\n  0.0,\n  0.0,\n  0.0,\n  0.0,\n  0.0,\n  0.0,\n  0.0,\n  0.0,\n  0.0,\n  0.0,\n  0.0,\n  0.0,\n  0.0,\n  0.0,\n  0.0,\n  0.0,\n  0.0,\n  0.0,\n  0.0,\n  0.0,\n  0.0,\n  0.0],\n [73.33950000000002,\n  58.698,\n  58.501999999999995,\n  58.82950000000001,\n  58.9485,\n  57.13450000000002,\n  51.89850000000001,\n  41.834999999999994,\n  24.566,\n  9.5855,\n  1.4655,\n  0.0,\n  0.0,\n  0.0,\n  0.0,\n  0.0,\n  0.0,\n  0.0,\n  0.0,\n  0.0,\n  0.0,\n  0.0,\n  0.0,\n  0.0,\n  0.0,\n  0.0,\n  0.0,\n  0.0,\n  0.0,\n  0.0,\n  0.0,\n  0.0,\n  0.0,\n  0.0,\n  0.0,\n  0.0,\n  0.0,\n  0.0,\n  0.0,\n  0.0,\n  0.0,\n  0.0,\n  0.0,\n  0.0,\n  0.0,\n  0.0,\n  0.0,\n  0.0,\n  0.0,\n  0.0,\n  0.0,\n  0.0,\n  0.0,\n  0.0,\n  0.0,\n  0.0,\n  0.0,\n  0.0,\n  0.0,\n  0.0,\n  0.0,\n  0.0,\n  0.0,\n  0.0,\n  0.0,\n  0.0,\n  0.0,\n  0.0,\n  0.0,\n  0.0,\n  0.0,\n  0.0,\n  0.0,\n  0.0,\n  0.0,\n  0.0,\n  0.0,\n  0.0,\n  0.0,\n  0.0,\n  0.0,\n  0.0,\n  0.0,\n  0.0,\n  0.0,\n  0.0,\n  0.0,\n  0.0,\n  0.0,\n  0.0,\n  0.0,\n  0.0,\n  0.0,\n  0.0,\n  0.0,\n  0.0,\n  0.0,\n  0.0,\n  0.0,\n  0.0],\n [72.1405,\n  57.757000000000005,\n  58.9785,\n  58.39399999999999,\n  57.28549999999999,\n  51.947,\n  40.3435,\n  19.6895,\n  4.753,\n  0.0,\n  0.0,\n  0.0,\n  0.0,\n  0.0,\n  0.0,\n  0.0,\n  0.0,\n  0.0,\n  0.0,\n  0.0,\n  0.0,\n  0.0,\n  0.0,\n  0.0,\n  0.0,\n  0.0,\n  0.0,\n  0.0,\n  0.0,\n  0.0,\n  0.0,\n  0.0,\n  0.0,\n  0.0,\n  0.0,\n  0.0,\n  0.0,\n  0.0,\n  0.0,\n  0.0,\n  0.0,\n  0.0,\n  0.0,\n  0.0,\n  0.0,\n  0.0,\n  0.0,\n  0.0,\n  0.0,\n  0.0,\n  0.0,\n  0.0,\n  0.0,\n  0.0,\n  0.0,\n  0.0,\n  0.0,\n  0.0,\n  0.0,\n  0.0,\n  0.0,\n  0.0,\n  0.0,\n  0.0,\n  0.0,\n  0.0,\n  0.0,\n  0.0,\n  0.0,\n  0.0,\n  0.0,\n  0.0,\n  0.0,\n  0.0,\n  0.0,\n  0.0,\n  0.0,\n  0.0,\n  0.0,\n  0.0,\n  0.0,\n  0.0,\n  0.0,\n  0.0,\n  0.0,\n  0.0,\n  0.0,\n  0.0,\n  0.0,\n  0.0,\n  0.0,\n  0.0,\n  0.0,\n  0.0,\n  0.0,\n  0.0,\n  0.0,\n  0.0,\n  0.0,\n  0.0]]"
     },
     "execution_count": 15,
     "metadata": {},
     "output_type": "execute_result"
    }
   ],
   "source": [
    "get_results()"
   ],
   "metadata": {
    "collapsed": false,
    "pycharm": {
     "name": "#%%\n"
    }
   }
  },
  {
   "cell_type": "code",
   "execution_count": 16,
   "outputs": [],
   "source": [
    "def plot_results(graph, xlabel='Steps', line_label='', experiment=''):\n",
    "    plt.figure(figsize=(6.4, 4.8),frameon=False)\n",
    "\n",
    "    # title = '{}:step={},l={},r={},k_a={},attack={},k_d={},defense={}'.format(experiment, params['steps'], params['l'], params['r'], params['k_a'],\n",
    "    #                                                                               params['attack'], params['k_d'], params['defense'])\n",
    "\n",
    "    title=\"Cascading Failure in Different Initial Load\"\n",
    "\n",
    "    result_list=get_results()\n",
    "    result_norm_list=[]\n",
    "    for res in result_list:\n",
    "        key=[i for i in range(len(res))]\n",
    "        d=zip(key,res)\n",
    "        d=dict(d)\n",
    "\n",
    "        for strength, result in d.items():\n",
    "            result_norm = [r / len(graph) for r in res]\n",
    "        result_norm_list.append(result_norm)\n",
    "    # print(len(result_norm_list))\n",
    "    # print(result_norm_list)\n",
    "    plt.plot(result_norm_list[0], label=\"{}: {}\".format(line_label, strength),linestyle='-')\n",
    "    plt.plot(result_norm_list[1], label=\"{}: {}\".format(line_label, strength),linestyle='--')\n",
    "    plt.plot(result_norm_list[2], label=\"{}: {}\".format(line_label, strength),linestyle='-.')\n",
    "    plt.plot(result_norm_list[3], label=\"{}: {}\".format(line_label, strength),linestyle=':')\n",
    "    # plt.plot(result_norm_list[4], label=\"{}: {}\".format(line_label, strength),linestyle='-')\n",
    "\n",
    "    plt.xlabel(xlabel)\n",
    "    plt.ylabel(\"Spectral Radius\")\n",
    "    plt.ylim(0, 0.3)\n",
    "    plt.xlim(0,40)\n",
    "\n",
    "    save_dir = os.getcwd() + '/plots/' + experiment + '/'\n",
    "    os.makedirs(save_dir, exist_ok=True)\n",
    "\n",
    "    plt.legend([\"initial load: 0.7\",\"initial load: 0.8\",\"initial load: 0.9\",\"initial load: 1.0\",],loc='lower right')\n",
    "    # plt.title(title)\n",
    "    plt.savefig(save_dir + title + '.pdf')\n",
    "    plt.show()\n",
    "    plt.clf()"
   ],
   "metadata": {
    "collapsed": false,
    "pycharm": {
     "name": "#%%\n"
    }
   }
  },
  {
   "cell_type": "code",
   "execution_count": 17,
   "outputs": [
    {
     "name": "stdout",
     "output_type": "stream",
     "text": [
      "1\n",
      "2\n",
      "Running simulation 20 times\n"
     ]
    },
    {
     "name": "stderr",
     "output_type": "stream",
     "text": [
      "/Users/sunruogu/miniconda3/envs/Network_Attack/lib/python3.8/site-packages/graph_tiger/utils.py:44: FutureWarning: adjacency_matrix will return a scipy.sparse array instead of a matrix in Networkx 3.0.\n",
      "  A = nx.adjacency_matrix(graph).todense()\n"
     ]
    },
    {
     "name": "stdout",
     "output_type": "stream",
     "text": [
      "3\n",
      "4\n",
      "1\n",
      "2\n",
      "Running simulation 20 times\n",
      "3\n",
      "4\n",
      "1\n",
      "2\n",
      "Running simulation 20 times\n",
      "3\n",
      "4\n",
      "1\n",
      "2\n",
      "Running simulation 20 times\n",
      "3\n",
      "4\n"
     ]
    },
    {
     "data": {
      "text/plain": "<Figure size 640x480 with 1 Axes>",
      "image/png": "[encoded data removed]"
     },
     "metadata": {},
     "output_type": "display_data"
    },
    {
     "data": {
      "text/plain": "<Figure size 640x480 with 0 Axes>"
     },
     "metadata": {},
     "output_type": "display_data"
    }
   ],
   "source": [
    "plot_results(G)"
   ],
   "metadata": {
    "collapsed": false,
    "pycharm": {
     "name": "#%%\n"
    }
   }
  }
 ],
 "metadata": {
  "kernelspec": {
   "display_name": "Python 3",
   "language": "python",
   "name": "python3"
  },
  "language_info": {
   "codemirror_mode": {
    "name": "ipython",
    "version": 2
   },
   "file_extension": ".py",
   "mimetype": "text/x-python",
   "name": "python",
   "nbconvert_exporter": "python",
   "pygments_lexer": "ipython2",
   "version": "2.7.6"
  }
 },
 "nbformat": 4,
 "nbformat_minor": 0
}